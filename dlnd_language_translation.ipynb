{
 "cells": [
  {
   "cell_type": "markdown",
   "metadata": {
    "collapsed": true,
    "deletable": true,
    "editable": true
   },
   "source": [
    "# Language Translation\n",
    "In this project, you’re going to take a peek into the realm of neural network machine translation.  You’ll be training a sequence to sequence model on a dataset of English and French sentences that can translate new sentences from English to French.\n",
    "## Get the Data\n",
    "Since translating the whole language of English to French will take lots of time to train, we have provided you with a small portion of the English corpus."
   ]
  },
  {
   "cell_type": "code",
   "execution_count": 1,
   "metadata": {
    "collapsed": false,
    "deletable": true,
    "editable": true
   },
   "outputs": [],
   "source": [
    "\"\"\"\n",
    "DON'T MODIFY ANYTHING IN THIS CELL\n",
    "\"\"\"\n",
    "import helper\n",
    "import problem_unittests as tests\n",
    "\n",
    "source_path = 'data/small_vocab_en'\n",
    "target_path = 'data/small_vocab_fr'\n",
    "source_text = helper.load_data(source_path)\n",
    "target_text = helper.load_data(target_path)"
   ]
  },
  {
   "cell_type": "markdown",
   "metadata": {
    "deletable": true,
    "editable": true
   },
   "source": [
    "## Explore the Data\n",
    "Play around with view_sentence_range to view different parts of the data."
   ]
  },
  {
   "cell_type": "code",
   "execution_count": 2,
   "metadata": {
    "collapsed": false,
    "deletable": true,
    "editable": true
   },
   "outputs": [
    {
     "name": "stdout",
     "output_type": "stream",
     "text": [
      "Dataset Stats\n",
      "Roughly the number of unique words: 227\n",
      "Number of sentences: 137861\n",
      "Average number of words in a sentence: 13.225277634719028\n",
      "\n",
      "English sentences 0 to 10:\n",
      "new jersey is sometimes quiet during autumn , and it is snowy in april .\n",
      "the united states is usually chilly during july , and it is usually freezing in november .\n",
      "california is usually quiet during march , and it is usually hot in june .\n",
      "the united states is sometimes mild during june , and it is cold in september .\n",
      "your least liked fruit is the grape , but my least liked is the apple .\n",
      "his favorite fruit is the orange , but my favorite is the grape .\n",
      "paris is relaxing during december , but it is usually chilly in july .\n",
      "new jersey is busy during spring , and it is never hot in march .\n",
      "our least liked fruit is the lemon , but my least liked is the grape .\n",
      "the united states is sometimes busy during january , and it is sometimes warm in november .\n",
      "\n",
      "French sentences 0 to 10:\n",
      "new jersey est parfois calme pendant l' automne , et il est neigeux en avril .\n",
      "les états-unis est généralement froid en juillet , et il gèle habituellement en novembre .\n",
      "california est généralement calme en mars , et il est généralement chaud en juin .\n",
      "les états-unis est parfois légère en juin , et il fait froid en septembre .\n",
      "votre moins aimé fruit est le raisin , mais mon moins aimé est la pomme .\n",
      "son fruit préféré est l'orange , mais mon préféré est le raisin .\n",
      "paris est relaxant en décembre , mais il est généralement froid en juillet .\n",
      "new jersey est occupé au printemps , et il est jamais chaude en mars .\n",
      "notre fruit est moins aimé le citron , mais mon moins aimé est le raisin .\n",
      "les états-unis est parfois occupé en janvier , et il est parfois chaud en novembre .\n"
     ]
    }
   ],
   "source": [
    "view_sentence_range = (0, 10)\n",
    "\n",
    "\"\"\"\n",
    "DON'T MODIFY ANYTHING IN THIS CELL\n",
    "\"\"\"\n",
    "import numpy as np\n",
    "\n",
    "print('Dataset Stats')\n",
    "print('Roughly the number of unique words: {}'.format(len({word: None for word in source_text.split()})))\n",
    "\n",
    "sentences = source_text.split('\\n')\n",
    "word_counts = [len(sentence.split()) for sentence in sentences]\n",
    "print('Number of sentences: {}'.format(len(sentences)))\n",
    "print('Average number of words in a sentence: {}'.format(np.average(word_counts)))\n",
    "\n",
    "print()\n",
    "print('English sentences {} to {}:'.format(*view_sentence_range))\n",
    "print('\\n'.join(source_text.split('\\n')[view_sentence_range[0]:view_sentence_range[1]]))\n",
    "print()\n",
    "print('French sentences {} to {}:'.format(*view_sentence_range))\n",
    "print('\\n'.join(target_text.split('\\n')[view_sentence_range[0]:view_sentence_range[1]]))"
   ]
  },
  {
   "cell_type": "markdown",
   "metadata": {
    "deletable": true,
    "editable": true
   },
   "source": [
    "## Implement Preprocessing Function\n",
    "### Text to Word Ids\n",
    "As you did with other RNNs, you must turn the text into a number so the computer can understand it. In the function `text_to_ids()`, you'll turn `source_text` and `target_text` from words to ids.  However, you need to add the `<EOS>` word id at the end of each sentence from `target_text`.  This will help the neural network predict when the sentence should end.\n",
    "\n",
    "You can get the `<EOS>` word id by doing:\n",
    "```python\n",
    "target_vocab_to_int['<EOS>']\n",
    "```\n",
    "You can get other word ids using `source_vocab_to_int` and `target_vocab_to_int`."
   ]
  },
  {
   "cell_type": "code",
   "execution_count": 11,
   "metadata": {
    "collapsed": false,
    "deletable": true,
    "editable": true
   },
   "outputs": [
    {
     "name": "stdout",
     "output_type": "stream",
     "text": [
      "Tests Passed\n"
     ]
    }
   ],
   "source": [
    "# Defining a new function which returns the \n",
    "# text to word ids for only one pair of text and v2i\n",
    "def get_text_ids(text,vocab2int, eos=False):\n",
    "    # Create empty list\n",
    "    text_ids = []\n",
    "    \n",
    "    # Split by newline\n",
    "    sentences = text.split(\"\\n\")\n",
    "    \n",
    "    # Add the Ids to the list\n",
    "    for sentence in sentences:\n",
    "        sentence_id = [vocab2int[word] for word in sentence.split( )]\n",
    "        \n",
    "        # If specified add EOS\n",
    "        if eos is True:\n",
    "            sentence_id += [vocab2int['<EOS>']]\n",
    "        text_ids.append(sentence_id)\n",
    "        \n",
    "    return text_ids\n",
    "        \n",
    "        \n",
    "def text_to_ids(source_text, target_text, source_vocab_to_int, target_vocab_to_int):\n",
    "    \"\"\"\n",
    "    Convert source and target text to proper word ids\n",
    "    :param source_text: String that contains all the source text.\n",
    "    :param target_text: String that contains all the target text.\n",
    "    :param source_vocab_to_int: Dictionary to go from the source words to an id\n",
    "    :param target_vocab_to_int: Dictionary to go from the target words to an id\n",
    "    :return: A tuple of lists (source_id_text, target_id_text)\n",
    "    \"\"\"\n",
    "    \n",
    "    source_text_ids = get_text_ids(source_text,\n",
    "                                   source_vocab_to_int, \n",
    "                                   eos = False)\n",
    "    target_text_ids = get_text_ids(target_text,\n",
    "                                   target_vocab_to_int,\n",
    "                                   eos = True)\n",
    "    \n",
    "    \n",
    "        \n",
    "    \n",
    "    return source_text_ids, target_text_ids\n",
    "\n",
    "\"\"\"\n",
    "DON'T MODIFY ANYTHING IN THIS CELL THAT IS BELOW THIS LINE\n",
    "\"\"\"\n",
    "tests.test_text_to_ids(text_to_ids)"
   ]
  },
  {
   "cell_type": "markdown",
   "metadata": {
    "deletable": true,
    "editable": true
   },
   "source": [
    "### Preprocess all the data and save it\n",
    "Running the code cell below will preprocess all the data and save it to file."
   ]
  },
  {
   "cell_type": "code",
   "execution_count": 12,
   "metadata": {
    "collapsed": false,
    "deletable": true,
    "editable": true
   },
   "outputs": [],
   "source": [
    "\"\"\"\n",
    "DON'T MODIFY ANYTHING IN THIS CELL\n",
    "\"\"\"\n",
    "helper.preprocess_and_save_data(source_path, target_path, text_to_ids)"
   ]
  },
  {
   "cell_type": "markdown",
   "metadata": {
    "deletable": true,
    "editable": true
   },
   "source": [
    "# Check Point\n",
    "This is your first checkpoint. If you ever decide to come back to this notebook or have to restart the notebook, you can start from here. The preprocessed data has been saved to disk."
   ]
  },
  {
   "cell_type": "code",
   "execution_count": 13,
   "metadata": {
    "collapsed": false,
    "deletable": true,
    "editable": true
   },
   "outputs": [],
   "source": [
    "\"\"\"\n",
    "DON'T MODIFY ANYTHING IN THIS CELL\n",
    "\"\"\"\n",
    "import numpy as np\n",
    "import helper\n",
    "\n",
    "(source_int_text, target_int_text), (source_vocab_to_int, target_vocab_to_int), _ = helper.load_preprocess()"
   ]
  },
  {
   "cell_type": "markdown",
   "metadata": {
    "deletable": true,
    "editable": true
   },
   "source": [
    "### Check the Version of TensorFlow and Access to GPU\n",
    "This will check to make sure you have the correct version of TensorFlow and access to a GPU"
   ]
  },
  {
   "cell_type": "code",
   "execution_count": 14,
   "metadata": {
    "collapsed": false,
    "deletable": true,
    "editable": true
   },
   "outputs": [
    {
     "name": "stdout",
     "output_type": "stream",
     "text": [
      "TensorFlow Version: 1.0.0\n",
      "Default GPU Device: /gpu:0\n"
     ]
    }
   ],
   "source": [
    "\"\"\"\n",
    "DON'T MODIFY ANYTHING IN THIS CELL\n",
    "\"\"\"\n",
    "from distutils.version import LooseVersion\n",
    "import warnings\n",
    "import tensorflow as tf\n",
    "\n",
    "# Check TensorFlow Version\n",
    "assert LooseVersion(tf.__version__) in [LooseVersion('1.0.0'), LooseVersion('1.0.1')], 'This project requires TensorFlow version 1.0  You are using {}'.format(tf.__version__)\n",
    "print('TensorFlow Version: {}'.format(tf.__version__))\n",
    "\n",
    "# Check for a GPU\n",
    "if not tf.test.gpu_device_name():\n",
    "    warnings.warn('No GPU found. Please use a GPU to train your neural network.')\n",
    "else:\n",
    "    print('Default GPU Device: {}'.format(tf.test.gpu_device_name()))"
   ]
  },
  {
   "cell_type": "markdown",
   "metadata": {
    "deletable": true,
    "editable": true
   },
   "source": [
    "## Build the Neural Network\n",
    "You'll build the components necessary to build a Sequence-to-Sequence model by implementing the following functions below:\n",
    "- `model_inputs`\n",
    "- `process_decoding_input`\n",
    "- `encoding_layer`\n",
    "- `decoding_layer_train`\n",
    "- `decoding_layer_infer`\n",
    "- `decoding_layer`\n",
    "- `seq2seq_model`\n",
    "\n",
    "### Input\n",
    "Implement the `model_inputs()` function to create TF Placeholders for the Neural Network. It should create the following placeholders:\n",
    "\n",
    "- Input text placeholder named \"input\" using the TF Placeholder name parameter with rank 2.\n",
    "- Targets placeholder with rank 2.\n",
    "- Learning rate placeholder with rank 0.\n",
    "- Keep probability placeholder named \"keep_prob\" using the TF Placeholder name parameter with rank 0.\n",
    "\n",
    "Return the placeholders in the following the tuple (Input, Targets, Learing Rate, Keep Probability)"
   ]
  },
  {
   "cell_type": "code",
   "execution_count": 15,
   "metadata": {
    "collapsed": false,
    "deletable": true,
    "editable": true
   },
   "outputs": [
    {
     "name": "stdout",
     "output_type": "stream",
     "text": [
      "Tests Passed\n"
     ]
    }
   ],
   "source": [
    "def model_inputs():\n",
    "    \"\"\"\n",
    "    Create TF Placeholders for input, targets, and learning rate.\n",
    "    :return: Tuple (input, targets, learning rate, keep probability)\n",
    "    \"\"\"\n",
    "    # Inputs Type: int, name: input, shape: none\n",
    "    inputs = tf.placeholder(tf.int32,name=\"input\", shape=(None, None))\n",
    "    \n",
    "    # Targets Type: int, name: input, shape: none\n",
    "    targets = tf.placeholder(tf.int32, name=\"targets\", shape=(None, None))\n",
    "    \n",
    "    # Learning Rate Type: single precision fp \n",
    "    lr = tf.placeholder(tf.float32, shape=None)\n",
    "    # probability: Type: single precision fp     \n",
    "    keep_prob = tf.placeholder(tf.float32, shape=None, name=\"keep_prob\")\n",
    "    \n",
    "    return inputs,targets,lr,keep_prob\n",
    "\n",
    "\"\"\"\n",
    "DON'T MODIFY ANYTHING IN THIS CELL THAT IS BELOW THIS LINE\n",
    "\"\"\"\n",
    "tests.test_model_inputs(model_inputs)"
   ]
  },
  {
   "cell_type": "markdown",
   "metadata": {
    "deletable": true,
    "editable": true
   },
   "source": [
    "### Process Decoding Input\n",
    "Implement `process_decoding_input` using TensorFlow to remove the last word id from each batch in `target_data` and concat the GO ID to the begining of each batch."
   ]
  },
  {
   "cell_type": "code",
   "execution_count": 20,
   "metadata": {
    "collapsed": false,
    "deletable": true,
    "editable": true
   },
   "outputs": [
    {
     "name": "stdout",
     "output_type": "stream",
     "text": [
      "Tests Passed\n"
     ]
    }
   ],
   "source": [
    "def process_decoding_input(target_data, target_vocab_to_int, batch_size):\n",
    "    \"\"\"\n",
    "    Preprocess target data for decoding\n",
    "    :param target_data: Target Placehoder\n",
    "    :param target_vocab_to_int: Dictionary to go from the target words to an id\n",
    "    :param batch_size: Batch Size\n",
    "    :return: Preprocessed target data\n",
    "    \"\"\"\n",
    "    \n",
    "    # Using strided_slice get the last word\n",
    "    last = tf.strided_slice(target_data,[0,0],[batch_size,-1],[1,1])\n",
    "    \n",
    "    # Append Go ID at beginning and remove last from end\n",
    "    decoder_input = tf.concat([tf.fill([batch_size, 1], \n",
    "                                       target_vocab_to_int['<GO>']), last], 1)\n",
    "    return decoder_input\n",
    "\n",
    "\"\"\"\n",
    "DON'T MODIFY ANYTHING IN THIS CELL THAT IS BELOW THIS LINE\n",
    "\"\"\"\n",
    "tests.test_process_decoding_input(process_decoding_input)"
   ]
  },
  {
   "cell_type": "markdown",
   "metadata": {
    "deletable": true,
    "editable": true
   },
   "source": [
    "### Encoding\n",
    "Implement `encoding_layer()` to create a Encoder RNN layer using [`tf.nn.dynamic_rnn()`](https://www.tensorflow.org/api_docs/python/tf/nn/dynamic_rnn)."
   ]
  },
  {
   "cell_type": "code",
   "execution_count": 21,
   "metadata": {
    "collapsed": false,
    "deletable": true,
    "editable": true
   },
   "outputs": [
    {
     "name": "stdout",
     "output_type": "stream",
     "text": [
      "Tests Passed\n"
     ]
    }
   ],
   "source": [
    "def encoding_layer(rnn_inputs, rnn_size, num_layers, keep_prob):\n",
    "    \"\"\"\n",
    "    Create encoding layer\n",
    "    :param rnn_inputs: Inputs for the RNN\n",
    "    :param rnn_size: RNN Size\n",
    "    :param num_layers: Number of layers\n",
    "    :param keep_prob: Dropout keep probability\n",
    "    :return: RNN state\n",
    "    \"\"\"\n",
    "    # Create basic lstm cell\n",
    "    lstm = tf.contrib.rnn.BasicLSTMCell(rnn_size)\n",
    "    \n",
    "    # Add Dropout\n",
    "    drop = tf.contrib.rnn.DropoutWrapper(lstm, output_keep_prob=keep_prob)\n",
    "    \n",
    "    # Stack multiple cells\n",
    "    enc_cell = tf.contrib.rnn.MultiRNNCell([drop]* num_layers)\n",
    "    \n",
    "    # Get Encoded state\n",
    "    _, encoded_state = tf.nn.dynamic_rnn(enc_cell, rnn_inputs, dtype=tf.float32)\n",
    "    return encoded_state\n",
    "\n",
    "\"\"\"\n",
    "DON'T MODIFY ANYTHING IN THIS CELL THAT IS BELOW THIS LINE\n",
    "\"\"\"\n",
    "tests.test_encoding_layer(encoding_layer)"
   ]
  },
  {
   "cell_type": "markdown",
   "metadata": {
    "deletable": true,
    "editable": true
   },
   "source": [
    "### Decoding - Training\n",
    "Create training logits using [`tf.contrib.seq2seq.simple_decoder_fn_train()`](https://www.tensorflow.org/api_docs/python/tf/contrib/seq2seq/simple_decoder_fn_train) and [`tf.contrib.seq2seq.dynamic_rnn_decoder()`](https://www.tensorflow.org/api_docs/python/tf/contrib/seq2seq/dynamic_rnn_decoder).  Apply the `output_fn` to the [`tf.contrib.seq2seq.dynamic_rnn_decoder()`](https://www.tensorflow.org/api_docs/python/tf/contrib/seq2seq/dynamic_rnn_decoder) outputs."
   ]
  },
  {
   "cell_type": "code",
   "execution_count": 23,
   "metadata": {
    "collapsed": false,
    "deletable": true,
    "editable": true
   },
   "outputs": [
    {
     "name": "stdout",
     "output_type": "stream",
     "text": [
      "Tests Passed\n"
     ]
    }
   ],
   "source": [
    "def decoding_layer_train(encoder_state, dec_cell, dec_embed_input, sequence_length, decoding_scope,\n",
    "                         output_fn, keep_prob):\n",
    "    \"\"\"\n",
    "    Create a decoding layer for training\n",
    "    :param encoder_state: Encoder State\n",
    "    :param dec_cell: Decoder RNN Cell\n",
    "    :param dec_embed_input: Decoder embedded input\n",
    "    :param sequence_length: Sequence Length\n",
    "    :param decoding_scope: TenorFlow Variable Scope for decoding\n",
    "    :param output_fn: Function to apply the output layer\n",
    "    :param keep_prob: Dropout keep probability\n",
    "    :return: Train Logits\n",
    "    \"\"\"\n",
    "    # TODO: Implement Function\n",
    "    \n",
    "    # Use the builtin seq2seq simple decoder training function\n",
    "    decoder_tf = tf.contrib.seq2seq.simple_decoder_fn_train(encoder_state)\n",
    "    \n",
    "    # Use the builtin dynamic rnn decoder from seq2seq\n",
    "    predictor_tf, _, _ = tf.contrib.seq2seq.dynamic_rnn_decoder( dec_cell,\n",
    "                                                                decoder_tf,\n",
    "                                                                dec_embed_input,\n",
    "                                                                sequence_length, \n",
    "                                                                scope=decoding_scope)\n",
    "    \n",
    "    # Generate and return the logits\n",
    "    tf_logits = output_fn(predictor_tf)\n",
    "    return tf_logits\n",
    "\n",
    "\n",
    "\"\"\"\n",
    "DON'T MODIFY ANYTHING IN THIS CELL THAT IS BELOW THIS LINE\n",
    "\"\"\"\n",
    "tests.test_decoding_layer_train(decoding_layer_train)"
   ]
  },
  {
   "cell_type": "markdown",
   "metadata": {
    "deletable": true,
    "editable": true
   },
   "source": [
    "### Decoding - Inference\n",
    "Create inference logits using [`tf.contrib.seq2seq.simple_decoder_fn_inference()`](https://www.tensorflow.org/api_docs/python/tf/contrib/seq2seq/simple_decoder_fn_inference) and [`tf.contrib.seq2seq.dynamic_rnn_decoder()`](https://www.tensorflow.org/api_docs/python/tf/contrib/seq2seq/dynamic_rnn_decoder). "
   ]
  },
  {
   "cell_type": "code",
   "execution_count": 24,
   "metadata": {
    "collapsed": false,
    "deletable": true,
    "editable": true
   },
   "outputs": [
    {
     "name": "stdout",
     "output_type": "stream",
     "text": [
      "Tests Passed\n"
     ]
    }
   ],
   "source": [
    "def decoding_layer_infer(encoder_state, dec_cell, dec_embeddings, start_of_sequence_id, end_of_sequence_id,\n",
    "                         maximum_length, vocab_size, decoding_scope, output_fn, keep_prob):\n",
    "    \"\"\"\n",
    "    Create a decoding layer for inference\n",
    "    :param encoder_state: Encoder state\n",
    "    :param dec_cell: Decoder RNN Cell\n",
    "    :param dec_embeddings: Decoder embeddings\n",
    "    :param start_of_sequence_id: GO ID\n",
    "    :param end_of_sequence_id: EOS Id\n",
    "    :param maximum_length: The maximum allowed time steps to decode\n",
    "    :param vocab_size: Size of vocabulary\n",
    "    :param decoding_scope: TensorFlow Variable Scope for decoding\n",
    "    :param output_fn: Function to apply the output layer\n",
    "    :param keep_prob: Dropout keep probability\n",
    "    :return: Inference Logits\n",
    "    \"\"\"\n",
    "    # Use the builtin seq2seq simple decoder inference function\n",
    "    decoder_if = tf.contrib.seq2seq.simple_decoder_fn_inference(output_fn,\n",
    "                                                                encoder_state,\n",
    "                                                                dec_embeddings,\n",
    "                                                                start_of_sequence_id, \n",
    "                                                                end_of_sequence_id, \n",
    "                                                                maximum_length, \n",
    "                                                                vocab_size)\n",
    "    \n",
    "    # Use the builtin dynamic rnn decoder from seq2seq\n",
    "    if_logits, _, _ = tf.contrib.seq2seq.dynamic_rnn_decoder(dec_cell, \n",
    "                                                                    decoder_if,\n",
    "                                                                    scope=decoding_scope)\n",
    "    return if_logits\n",
    "\n",
    "\n",
    "\"\"\"\n",
    "DON'T MODIFY ANYTHING IN THIS CELL THAT IS BELOW THIS LINE\n",
    "\"\"\"\n",
    "tests.test_decoding_layer_infer(decoding_layer_infer)"
   ]
  },
  {
   "cell_type": "markdown",
   "metadata": {
    "deletable": true,
    "editable": true
   },
   "source": [
    "### Build the Decoding Layer\n",
    "Implement `decoding_layer()` to create a Decoder RNN layer.\n",
    "\n",
    "- Create RNN cell for decoding using `rnn_size` and `num_layers`.\n",
    "- Create the output fuction using [`lambda`](https://docs.python.org/3/tutorial/controlflow.html#lambda-expressions) to transform it's input, logits, to class logits.\n",
    "- Use the your `decoding_layer_train(encoder_state, dec_cell, dec_embed_input, sequence_length, decoding_scope, output_fn, keep_prob)` function to get the training logits.\n",
    "- Use your `decoding_layer_infer(encoder_state, dec_cell, dec_embeddings, start_of_sequence_id, end_of_sequence_id, maximum_length, vocab_size, decoding_scope, output_fn, keep_prob)` function to get the inference logits.\n",
    "\n",
    "Note: You'll need to use [tf.variable_scope](https://www.tensorflow.org/api_docs/python/tf/variable_scope) to share variables between training and inference."
   ]
  },
  {
   "cell_type": "code",
   "execution_count": 33,
   "metadata": {
    "collapsed": false,
    "deletable": true,
    "editable": true
   },
   "outputs": [
    {
     "name": "stdout",
     "output_type": "stream",
     "text": [
      "Tests Passed\n"
     ]
    }
   ],
   "source": [
    "def decoding_layer(dec_embed_input, dec_embeddings, encoder_state, vocab_size, sequence_length, rnn_size,\n",
    "                   num_layers, target_vocab_to_int, keep_prob):\n",
    "    \"\"\"\n",
    "    Create decoding layer\n",
    "    :param dec_embed_input: Decoder embedded input\n",
    "    :param dec_embeddings: Decoder embeddings\n",
    "    :param encoder_state: The encoded state\n",
    "    :param vocab_size: Size of vocabulary\n",
    "    :param sequence_length: Sequence Length\n",
    "    :param rnn_size: RNN Size\n",
    "    :param num_layers: Number of layers\n",
    "    :param target_vocab_to_int: Dictionary to go from the target words to an id\n",
    "    :param keep_prob: Dropout keep probability\n",
    "    :return: Tuple of (Training Logits, Inference Logits)\n",
    "    \"\"\"\n",
    "    lstm_cell = [tf.contrib.rnn.BasicLSTMCell(rnn_size)]\n",
    "    decoder_cell = tf.contrib.rnn.MultiRNNCell( lstm_cell * num_layers)\n",
    "    \n",
    "    # Scope for tensorboard \n",
    "    # Add Fully connected layer\n",
    "    with tf.variable_scope(\"decoder\") as decode_scope:\n",
    "         fc_layer = lambda x: tf.contrib.layers.fully_connected(x,vocab_size,\n",
    "                                                                 None,\n",
    "                                                                 scope = decode_scope)\n",
    "    # Get Training logits\n",
    "    with tf.variable_scope(\"decoder\") as decode_scope:\n",
    "        tf_logits = decoding_layer_train(encoder_state, \n",
    "                                                decoder_cell,\n",
    "                                                dec_embed_input,\n",
    "                                                sequence_length,\n",
    "                                                decode_scope,\n",
    "                                                fc_layer,keep_prob)\n",
    "        tf_logits = tf.identity(tf_logits,name=\"Training_logits\")\n",
    "    \n",
    "    # Get inference Logits\n",
    "    with tf.variable_scope(\"decoder\", reuse=True) as decode_scope:\n",
    "        if_logits = decoding_layer_infer(encoder_state,\n",
    "                                        decoder_cell, \n",
    "                                        dec_embeddings, \n",
    "                                        target_vocab_to_int[\"<GO>\"],\n",
    "                                        target_vocab_to_int[\"<EOS>\"], \n",
    "                                        sequence_length -1,\n",
    "                                        vocab_size,\n",
    "                                        decode_scope,\n",
    "                                        fc_layer,\n",
    "                                        keep_prob)\n",
    "        \n",
    "        if_logits = tf.identity(if_logits,name=\"Inference_logits\")\n",
    "    \n",
    "    # Return\n",
    "    return tf_logits, if_logits\n",
    "\n",
    "\n",
    "\n",
    "\"\"\"\n",
    "DON'T MODIFY ANYTHING IN THIS CELL THAT IS BELOW THIS LINE\n",
    "\"\"\"\n",
    "tests.test_decoding_layer(decoding_layer)"
   ]
  },
  {
   "cell_type": "markdown",
   "metadata": {
    "deletable": true,
    "editable": true
   },
   "source": [
    "### Build the Neural Network\n",
    "Apply the functions you implemented above to:\n",
    "\n",
    "- Apply embedding to the input data for the encoder.\n",
    "- Encode the input using your `encoding_layer(rnn_inputs, rnn_size, num_layers, keep_prob)`.\n",
    "- Process target data using your `process_decoding_input(target_data, target_vocab_to_int, batch_size)` function.\n",
    "- Apply embedding to the target data for the decoder.\n",
    "- Decode the encoded input using your `decoding_layer(dec_embed_input, dec_embeddings, encoder_state, vocab_size, sequence_length, rnn_size, num_layers, target_vocab_to_int, keep_prob)`."
   ]
  },
  {
   "cell_type": "code",
   "execution_count": 35,
   "metadata": {
    "collapsed": false,
    "deletable": true,
    "editable": true
   },
   "outputs": [
    {
     "name": "stdout",
     "output_type": "stream",
     "text": [
      "Tests Passed\n"
     ]
    }
   ],
   "source": [
    "def seq2seq_model(input_data, target_data, keep_prob, batch_size, sequence_length, source_vocab_size, target_vocab_size,\n",
    "                  enc_embedding_size, dec_embedding_size, rnn_size, num_layers, target_vocab_to_int):\n",
    "    \"\"\"\n",
    "    Build the Sequence-to-Sequence part of the neural network\n",
    "    :param input_data: Input placeholder\n",
    "    :param target_data: Target placeholder\n",
    "    :param keep_prob: Dropout keep probability placeholder\n",
    "    :param batch_size: Batch Size\n",
    "    :param sequence_length: Sequence Length\n",
    "    :param source_vocab_size: Source vocabulary size\n",
    "    :param target_vocab_size: Target vocabulary size\n",
    "    :param enc_embedding_size: Decoder embedding size\n",
    "    :param dec_embedding_size: Encoder embedding size\n",
    "    :param rnn_size: RNN Size\n",
    "    :param num_layers: Number of layers\n",
    "    :param target_vocab_to_int: Dictionary to go from the target words to an id\n",
    "    :return: Tuple of (Training Logits, Inference Logits)\n",
    "    \"\"\"\n",
    "    # Get Embedded input for encoder\n",
    "    encoder_embedded_input = tf.contrib.layers.embed_sequence(input_data,\n",
    "                                                           source_vocab_size,\n",
    "                                                           enc_embedding_size)\n",
    "    # Generate the encoding layer\n",
    "    encoder_state = encoding_layer(encoder_embedded_input, rnn_size, num_layers, keep_prob)\n",
    "    \n",
    "    # Prepare input for decoder\n",
    "    decoder_input = process_decoding_input(target_data, target_vocab_to_int, batch_size) \n",
    "    \n",
    "    # Generate decoder embedding\n",
    "    decoder_embedding = tf.Variable(tf.random_uniform([target_vocab_size, \n",
    "                                                       dec_embedding_size]))\n",
    "    \n",
    "    # Get Embedded input for decoder\n",
    "    decoder_embedded_input = tf.nn.embedding_lookup(decoder_embedding, decoder_input)\n",
    "   \n",
    "    # Create the logits\n",
    "    tf_logits,if_logits = decoding_layer(decoder_embedded_input,\n",
    "                                         decoder_embedding,\n",
    "                                         encoder_state,\n",
    "                                         target_vocab_size,\n",
    "                                         sequence_length,\n",
    "                                         rnn_size,\n",
    "                                         num_layers,\n",
    "                                         target_vocab_to_int,\n",
    "                                         keep_prob)\n",
    "    \n",
    "    return tf_logits,if_logits\n",
    "\n",
    "\n",
    "\"\"\"\n",
    "DON'T MODIFY ANYTHING IN THIS CELL THAT IS BELOW THIS LINE\n",
    "\"\"\"\n",
    "tests.test_seq2seq_model(seq2seq_model)"
   ]
  },
  {
   "cell_type": "markdown",
   "metadata": {
    "deletable": true,
    "editable": true
   },
   "source": [
    "## Neural Network Training\n",
    "### Hyperparameters\n",
    "Tune the following parameters:\n",
    "\n",
    "- Set `epochs` to the number of epochs.\n",
    "- Set `batch_size` to the batch size.\n",
    "- Set `rnn_size` to the size of the RNNs.\n",
    "- Set `num_layers` to the number of layers.\n",
    "- Set `encoding_embedding_size` to the size of the embedding for the encoder.\n",
    "- Set `decoding_embedding_size` to the size of the embedding for the decoder.\n",
    "- Set `learning_rate` to the learning rate.\n",
    "- Set `keep_probability` to the Dropout keep probability"
   ]
  },
  {
   "cell_type": "code",
   "execution_count": 36,
   "metadata": {
    "collapsed": true,
    "deletable": true,
    "editable": true
   },
   "outputs": [],
   "source": [
    "# Number of Epochs\n",
    "epochs = 3\n",
    "# Batch Size\n",
    "batch_size = 256\n",
    "# RNN Size\n",
    "rnn_size = 128\n",
    "# Number of Layers\n",
    "num_layers = 6\n",
    "# Embedding Size\n",
    "encoding_embedding_size = 25\n",
    "decoding_embedding_size = 25\n",
    "# Learning Rate\n",
    "learning_rate = 0.01\n",
    "# Dropout Keep Probability\n",
    "keep_probability = 0.5"
   ]
  },
  {
   "cell_type": "markdown",
   "metadata": {
    "deletable": true,
    "editable": true
   },
   "source": [
    "### Build the Graph\n",
    "Build the graph using the neural network you implemented."
   ]
  },
  {
   "cell_type": "code",
   "execution_count": 37,
   "metadata": {
    "collapsed": false,
    "deletable": true,
    "editable": true
   },
   "outputs": [],
   "source": [
    "\"\"\"\n",
    "DON'T MODIFY ANYTHING IN THIS CELL\n",
    "\"\"\"\n",
    "save_path = 'checkpoints/dev'\n",
    "(source_int_text, target_int_text), (source_vocab_to_int, target_vocab_to_int), _ = helper.load_preprocess()\n",
    "max_source_sentence_length = max([len(sentence) for sentence in source_int_text])\n",
    "\n",
    "train_graph = tf.Graph()\n",
    "with train_graph.as_default():\n",
    "    input_data, targets, lr, keep_prob = model_inputs()\n",
    "    sequence_length = tf.placeholder_with_default(max_source_sentence_length, None, name='sequence_length')\n",
    "    input_shape = tf.shape(input_data)\n",
    "    \n",
    "    train_logits, inference_logits = seq2seq_model(\n",
    "        tf.reverse(input_data, [-1]), targets, keep_prob, batch_size, sequence_length, len(source_vocab_to_int), len(target_vocab_to_int),\n",
    "        encoding_embedding_size, decoding_embedding_size, rnn_size, num_layers, target_vocab_to_int)\n",
    "\n",
    "    tf.identity(inference_logits, 'logits')\n",
    "    with tf.name_scope(\"optimization\"):\n",
    "        # Loss function\n",
    "        cost = tf.contrib.seq2seq.sequence_loss(\n",
    "            train_logits,\n",
    "            targets,\n",
    "            tf.ones([input_shape[0], sequence_length]))\n",
    "\n",
    "        # Optimizer\n",
    "        optimizer = tf.train.AdamOptimizer(lr)\n",
    "\n",
    "        # Gradient Clipping\n",
    "        gradients = optimizer.compute_gradients(cost)\n",
    "        capped_gradients = [(tf.clip_by_value(grad, -1., 1.), var) for grad, var in gradients if grad is not None]\n",
    "        train_op = optimizer.apply_gradients(capped_gradients)"
   ]
  },
  {
   "cell_type": "markdown",
   "metadata": {
    "deletable": true,
    "editable": true
   },
   "source": [
    "### Train\n",
    "Train the neural network on the preprocessed data. If you have a hard time getting a good loss, check the forms to see if anyone is having the same problem."
   ]
  },
  {
   "cell_type": "code",
   "execution_count": 38,
   "metadata": {
    "collapsed": false,
    "deletable": true,
    "editable": true,
    "scrolled": true
   },
   "outputs": [
    {
     "name": "stdout",
     "output_type": "stream",
     "text": [
      "Epoch   0 Batch    0/538 - Train Accuracy:  0.268, Validation Accuracy:  0.345, Loss:  5.880\n",
      "Epoch   0 Batch    1/538 - Train Accuracy:  0.231, Validation Accuracy:  0.316, Loss:  5.608\n",
      "Epoch   0 Batch    2/538 - Train Accuracy:  0.285, Validation Accuracy:  0.345, Loss:  4.451\n",
      "Epoch   0 Batch    3/538 - Train Accuracy:  0.261, Validation Accuracy:  0.336, Loss:  4.081\n",
      "Epoch   0 Batch    4/538 - Train Accuracy:  0.276, Validation Accuracy:  0.347, Loss:  3.798\n",
      "Epoch   0 Batch    5/538 - Train Accuracy:  0.295, Validation Accuracy:  0.345, Loss:  3.489\n",
      "Epoch   0 Batch    6/538 - Train Accuracy:  0.302, Validation Accuracy:  0.346, Loss:  3.460\n",
      "Epoch   0 Batch    7/538 - Train Accuracy:  0.284, Validation Accuracy:  0.350, Loss:  3.524\n",
      "Epoch   0 Batch    8/538 - Train Accuracy:  0.296, Validation Accuracy:  0.361, Loss:  3.486\n",
      "Epoch   0 Batch    9/538 - Train Accuracy:  0.312, Validation Accuracy:  0.377, Loss:  3.356\n",
      "Epoch   0 Batch   10/538 - Train Accuracy:  0.293, Validation Accuracy:  0.371, Loss:  3.386\n",
      "Epoch   0 Batch   11/538 - Train Accuracy:  0.312, Validation Accuracy:  0.380, Loss:  3.303\n",
      "Epoch   0 Batch   12/538 - Train Accuracy:  0.298, Validation Accuracy:  0.375, Loss:  3.300\n",
      "Epoch   0 Batch   13/538 - Train Accuracy:  0.323, Validation Accuracy:  0.353, Loss:  3.044\n",
      "Epoch   0 Batch   14/538 - Train Accuracy:  0.311, Validation Accuracy:  0.381, Loss:  3.171\n",
      "Epoch   0 Batch   15/538 - Train Accuracy:  0.353, Validation Accuracy:  0.381, Loss:  3.026\n",
      "Epoch   0 Batch   16/538 - Train Accuracy:  0.347, Validation Accuracy:  0.386, Loss:  2.986\n",
      "Epoch   0 Batch   17/538 - Train Accuracy:  0.324, Validation Accuracy:  0.383, Loss:  3.092\n",
      "Epoch   0 Batch   18/538 - Train Accuracy:  0.313, Validation Accuracy:  0.383, Loss:  3.113\n",
      "Epoch   0 Batch   19/538 - Train Accuracy:  0.309, Validation Accuracy:  0.383, Loss:  3.089\n",
      "Epoch   0 Batch   20/538 - Train Accuracy:  0.347, Validation Accuracy:  0.392, Loss:  2.924\n",
      "Epoch   0 Batch   21/538 - Train Accuracy:  0.236, Validation Accuracy:  0.354, Loss:  3.104\n",
      "Epoch   0 Batch   22/538 - Train Accuracy:  0.248, Validation Accuracy:  0.314, Loss:  3.547\n",
      "Epoch   0 Batch   23/538 - Train Accuracy:  0.326, Validation Accuracy:  0.383, Loss:  3.419\n",
      "Epoch   0 Batch   24/538 - Train Accuracy:  0.316, Validation Accuracy:  0.368, Loss:  3.016\n",
      "Epoch   0 Batch   25/538 - Train Accuracy:  0.303, Validation Accuracy:  0.371, Loss:  3.147\n",
      "Epoch   0 Batch   26/538 - Train Accuracy:  0.300, Validation Accuracy:  0.371, Loss:  3.194\n",
      "Epoch   0 Batch   27/538 - Train Accuracy:  0.330, Validation Accuracy:  0.390, Loss:  3.096\n",
      "Epoch   0 Batch   28/538 - Train Accuracy:  0.383, Validation Accuracy:  0.386, Loss:  2.775\n",
      "Epoch   0 Batch   29/538 - Train Accuracy:  0.333, Validation Accuracy:  0.376, Loss:  2.953\n",
      "Epoch   0 Batch   30/538 - Train Accuracy:  0.318, Validation Accuracy:  0.385, Loss:  3.116\n",
      "Epoch   0 Batch   31/538 - Train Accuracy:  0.359, Validation Accuracy:  0.398, Loss:  2.893\n",
      "Epoch   0 Batch   32/538 - Train Accuracy:  0.340, Validation Accuracy:  0.398, Loss:  2.904\n",
      "Epoch   0 Batch   33/538 - Train Accuracy:  0.357, Validation Accuracy:  0.398, Loss:  2.875\n",
      "Epoch   0 Batch   34/538 - Train Accuracy:  0.327, Validation Accuracy:  0.387, Loss:  2.969\n",
      "Epoch   0 Batch   35/538 - Train Accuracy:  0.319, Validation Accuracy:  0.392, Loss:  2.936\n",
      "Epoch   0 Batch   36/538 - Train Accuracy:  0.349, Validation Accuracy:  0.388, Loss:  2.822\n",
      "Epoch   0 Batch   37/538 - Train Accuracy:  0.335, Validation Accuracy:  0.396, Loss:  2.911\n",
      "Epoch   0 Batch   38/538 - Train Accuracy:  0.322, Validation Accuracy:  0.398, Loss:  2.925\n",
      "Epoch   0 Batch   39/538 - Train Accuracy:  0.336, Validation Accuracy:  0.399, Loss:  2.911\n",
      "Epoch   0 Batch   40/538 - Train Accuracy:  0.390, Validation Accuracy:  0.398, Loss:  2.662\n",
      "Epoch   0 Batch   41/538 - Train Accuracy:  0.339, Validation Accuracy:  0.399, Loss:  2.853\n",
      "Epoch   0 Batch   42/538 - Train Accuracy:  0.336, Validation Accuracy:  0.399, Loss:  2.848\n",
      "Epoch   0 Batch   43/538 - Train Accuracy:  0.342, Validation Accuracy:  0.399, Loss:  2.878\n",
      "Epoch   0 Batch   44/538 - Train Accuracy:  0.333, Validation Accuracy:  0.399, Loss:  2.872\n",
      "Epoch   0 Batch   45/538 - Train Accuracy:  0.365, Validation Accuracy:  0.398, Loss:  2.734\n",
      "Epoch   0 Batch   46/538 - Train Accuracy:  0.339, Validation Accuracy:  0.401, Loss:  2.830\n",
      "Epoch   0 Batch   47/538 - Train Accuracy:  0.369, Validation Accuracy:  0.398, Loss:  2.734\n",
      "Epoch   0 Batch   48/538 - Train Accuracy:  0.375, Validation Accuracy:  0.398, Loss:  2.716\n",
      "Epoch   0 Batch   49/538 - Train Accuracy:  0.324, Validation Accuracy:  0.400, Loss:  2.862\n",
      "Epoch   0 Batch   50/538 - Train Accuracy:  0.352, Validation Accuracy:  0.406, Loss:  2.742\n",
      "Epoch   0 Batch   51/538 - Train Accuracy:  0.289, Validation Accuracy:  0.397, Loss:  2.937\n",
      "Epoch   0 Batch   52/538 - Train Accuracy:  0.350, Validation Accuracy:  0.406, Loss:  2.852\n",
      "Epoch   0 Batch   53/538 - Train Accuracy:  0.385, Validation Accuracy:  0.403, Loss:  2.585\n",
      "Epoch   0 Batch   54/538 - Train Accuracy:  0.348, Validation Accuracy:  0.406, Loss:  2.759\n",
      "Epoch   0 Batch   55/538 - Train Accuracy:  0.338, Validation Accuracy:  0.402, Loss:  2.788\n",
      "Epoch   0 Batch   56/538 - Train Accuracy:  0.374, Validation Accuracy:  0.403, Loss:  2.658\n",
      "Epoch   0 Batch   57/538 - Train Accuracy:  0.337, Validation Accuracy:  0.411, Loss:  2.747\n",
      "Epoch   0 Batch   58/538 - Train Accuracy:  0.333, Validation Accuracy:  0.407, Loss:  2.760\n",
      "Epoch   0 Batch   59/538 - Train Accuracy:  0.358, Validation Accuracy:  0.415, Loss:  2.754\n",
      "Epoch   0 Batch   60/538 - Train Accuracy:  0.362, Validation Accuracy:  0.423, Loss:  2.711\n",
      "Epoch   0 Batch   61/538 - Train Accuracy:  0.356, Validation Accuracy:  0.416, Loss:  2.725\n",
      "Epoch   0 Batch   62/538 - Train Accuracy:  0.375, Validation Accuracy:  0.414, Loss:  2.606\n",
      "Epoch   0 Batch   63/538 - Train Accuracy:  0.386, Validation Accuracy:  0.419, Loss:  2.588\n",
      "Epoch   0 Batch   64/538 - Train Accuracy:  0.383, Validation Accuracy:  0.421, Loss:  2.600\n",
      "Epoch   0 Batch   65/538 - Train Accuracy:  0.351, Validation Accuracy:  0.424, Loss:  2.739\n",
      "Epoch   0 Batch   66/538 - Train Accuracy:  0.397, Validation Accuracy:  0.430, Loss:  2.522\n",
      "Epoch   0 Batch   67/538 - Train Accuracy:  0.380, Validation Accuracy:  0.435, Loss:  2.635\n",
      "Epoch   0 Batch   68/538 - Train Accuracy:  0.414, Validation Accuracy:  0.452, Loss:  2.443\n",
      "Epoch   0 Batch   69/538 - Train Accuracy:  0.358, Validation Accuracy:  0.419, Loss:  2.616\n",
      "Epoch   0 Batch   70/538 - Train Accuracy:  0.412, Validation Accuracy:  0.444, Loss:  2.549\n",
      "Epoch   0 Batch   71/538 - Train Accuracy:  0.385, Validation Accuracy:  0.446, Loss:  2.594\n",
      "Epoch   0 Batch   72/538 - Train Accuracy:  0.427, Validation Accuracy:  0.456, Loss:  2.441\n",
      "Epoch   0 Batch   73/538 - Train Accuracy:  0.373, Validation Accuracy:  0.438, Loss:  2.566\n",
      "Epoch   0 Batch   74/538 - Train Accuracy:  0.438, Validation Accuracy:  0.463, Loss:  2.521\n",
      "Epoch   0 Batch   75/538 - Train Accuracy:  0.441, Validation Accuracy:  0.468, Loss:  2.408\n",
      "Epoch   0 Batch   76/538 - Train Accuracy:  0.401, Validation Accuracy:  0.462, Loss:  2.531\n",
      "Epoch   0 Batch   77/538 - Train Accuracy:  0.389, Validation Accuracy:  0.460, Loss:  2.487\n",
      "Epoch   0 Batch   78/538 - Train Accuracy:  0.433, Validation Accuracy:  0.463, Loss:  2.397\n",
      "Epoch   0 Batch   79/538 - Train Accuracy:  0.428, Validation Accuracy:  0.460, Loss:  2.333\n",
      "Epoch   0 Batch   80/538 - Train Accuracy:  0.406, Validation Accuracy:  0.465, Loss:  2.483\n",
      "Epoch   0 Batch   81/538 - Train Accuracy:  0.410, Validation Accuracy:  0.471, Loss:  2.438\n",
      "Epoch   0 Batch   82/538 - Train Accuracy:  0.414, Validation Accuracy:  0.477, Loss:  2.397\n",
      "Epoch   0 Batch   83/538 - Train Accuracy:  0.417, Validation Accuracy:  0.476, Loss:  2.415\n",
      "Epoch   0 Batch   84/538 - Train Accuracy:  0.437, Validation Accuracy:  0.472, Loss:  2.317\n",
      "Epoch   0 Batch   85/538 - Train Accuracy:  0.449, Validation Accuracy:  0.472, Loss:  2.230\n",
      "Epoch   0 Batch   86/538 - Train Accuracy:  0.424, Validation Accuracy:  0.477, Loss:  2.389\n",
      "Epoch   0 Batch   87/538 - Train Accuracy:  0.422, Validation Accuracy:  0.485, Loss:  2.353\n",
      "Epoch   0 Batch   88/538 - Train Accuracy:  0.429, Validation Accuracy:  0.481, Loss:  2.330\n",
      "Epoch   0 Batch   89/538 - Train Accuracy:  0.426, Validation Accuracy:  0.479, Loss:  2.313\n",
      "Epoch   0 Batch   90/538 - Train Accuracy:  0.438, Validation Accuracy:  0.473, Loss:  2.249\n",
      "Epoch   0 Batch   91/538 - Train Accuracy:  0.423, Validation Accuracy:  0.480, Loss:  2.343\n",
      "Epoch   0 Batch   92/538 - Train Accuracy:  0.446, Validation Accuracy:  0.487, Loss:  2.268\n",
      "Epoch   0 Batch   93/538 - Train Accuracy:  0.422, Validation Accuracy:  0.485, Loss:  2.316\n",
      "Epoch   0 Batch   94/538 - Train Accuracy:  0.421, Validation Accuracy:  0.481, Loss:  2.332\n",
      "Epoch   0 Batch   95/538 - Train Accuracy:  0.481, Validation Accuracy:  0.481, Loss:  2.094\n",
      "Epoch   0 Batch   96/538 - Train Accuracy:  0.456, Validation Accuracy:  0.480, Loss:  2.146\n",
      "Epoch   0 Batch   97/538 - Train Accuracy:  0.410, Validation Accuracy:  0.482, Loss:  2.285\n",
      "Epoch   0 Batch   98/538 - Train Accuracy:  0.460, Validation Accuracy:  0.480, Loss:  2.111\n",
      "Epoch   0 Batch   99/538 - Train Accuracy:  0.421, Validation Accuracy:  0.484, Loss:  2.295\n",
      "Epoch   0 Batch  100/538 - Train Accuracy:  0.427, Validation Accuracy:  0.484, Loss:  2.222\n",
      "Epoch   0 Batch  101/538 - Train Accuracy:  0.419, Validation Accuracy:  0.482, Loss:  2.290\n",
      "Epoch   0 Batch  102/538 - Train Accuracy:  0.419, Validation Accuracy:  0.482, Loss:  2.283\n",
      "Epoch   0 Batch  103/538 - Train Accuracy:  0.438, Validation Accuracy:  0.482, Loss:  2.216\n",
      "Epoch   0 Batch  104/538 - Train Accuracy:  0.452, Validation Accuracy:  0.485, Loss:  2.192\n",
      "Epoch   0 Batch  105/538 - Train Accuracy:  0.447, Validation Accuracy:  0.484, Loss:  2.155\n",
      "Epoch   0 Batch  106/538 - Train Accuracy:  0.431, Validation Accuracy:  0.486, Loss:  2.235\n",
      "Epoch   0 Batch  107/538 - Train Accuracy:  0.416, Validation Accuracy:  0.488, Loss:  2.269\n",
      "Epoch   0 Batch  108/538 - Train Accuracy:  0.448, Validation Accuracy:  0.490, Loss:  2.200\n",
      "Epoch   0 Batch  109/538 - Train Accuracy:  0.438, Validation Accuracy:  0.487, Loss:  2.209\n",
      "Epoch   0 Batch  110/538 - Train Accuracy:  0.415, Validation Accuracy:  0.478, Loss:  2.269\n",
      "Epoch   0 Batch  111/538 - Train Accuracy:  0.453, Validation Accuracy:  0.476, Loss:  2.143\n",
      "Epoch   0 Batch  112/538 - Train Accuracy:  0.417, Validation Accuracy:  0.483, Loss:  2.264\n",
      "Epoch   0 Batch  113/538 - Train Accuracy:  0.421, Validation Accuracy:  0.482, Loss:  2.264\n",
      "Epoch   0 Batch  114/538 - Train Accuracy:  0.462, Validation Accuracy:  0.483, Loss:  2.096\n",
      "Epoch   0 Batch  115/538 - Train Accuracy:  0.442, Validation Accuracy:  0.495, Loss:  2.192\n",
      "Epoch   0 Batch  116/538 - Train Accuracy:  0.457, Validation Accuracy:  0.495, Loss:  2.161\n",
      "Epoch   0 Batch  117/538 - Train Accuracy:  0.460, Validation Accuracy:  0.489, Loss:  2.134\n",
      "Epoch   0 Batch  118/538 - Train Accuracy:  0.462, Validation Accuracy:  0.480, Loss:  2.108\n",
      "Epoch   0 Batch  119/538 - Train Accuracy:  0.456, Validation Accuracy:  0.487, Loss:  2.110\n",
      "Epoch   0 Batch  120/538 - Train Accuracy:  0.435, Validation Accuracy:  0.491, Loss:  2.190\n",
      "Epoch   0 Batch  121/538 - Train Accuracy:  0.467, Validation Accuracy:  0.494, Loss:  2.100\n",
      "Epoch   0 Batch  122/538 - Train Accuracy:  0.439, Validation Accuracy:  0.488, Loss:  2.126\n",
      "Epoch   0 Batch  123/538 - Train Accuracy:  0.472, Validation Accuracy:  0.495, Loss:  2.074\n",
      "Epoch   0 Batch  124/538 - Train Accuracy:  0.471, Validation Accuracy:  0.491, Loss:  2.025\n",
      "Epoch   0 Batch  125/538 - Train Accuracy:  0.452, Validation Accuracy:  0.486, Loss:  2.115\n",
      "Epoch   0 Batch  126/538 - Train Accuracy:  0.478, Validation Accuracy:  0.487, Loss:  2.026\n",
      "Epoch   0 Batch  127/538 - Train Accuracy:  0.424, Validation Accuracy:  0.490, Loss:  2.218\n",
      "Epoch   0 Batch  128/538 - Train Accuracy:  0.469, Validation Accuracy:  0.499, Loss:  2.102\n",
      "Epoch   0 Batch  129/538 - Train Accuracy:  0.462, Validation Accuracy:  0.495, Loss:  2.101\n",
      "Epoch   0 Batch  130/538 - Train Accuracy:  0.451, Validation Accuracy:  0.486, Loss:  2.110\n",
      "Epoch   0 Batch  131/538 - Train Accuracy:  0.432, Validation Accuracy:  0.488, Loss:  2.225\n",
      "Epoch   0 Batch  132/538 - Train Accuracy:  0.472, Validation Accuracy:  0.499, Loss:  2.091\n",
      "Epoch   0 Batch  133/538 - Train Accuracy:  0.470, Validation Accuracy:  0.493, Loss:  2.046\n",
      "Epoch   0 Batch  134/538 - Train Accuracy:  0.405, Validation Accuracy:  0.478, Loss:  2.270\n",
      "Epoch   0 Batch  135/538 - Train Accuracy:  0.453, Validation Accuracy:  0.475, Loss:  2.080\n",
      "Epoch   0 Batch  136/538 - Train Accuracy:  0.452, Validation Accuracy:  0.493, Loss:  2.151\n",
      "Epoch   0 Batch  137/538 - Train Accuracy:  0.445, Validation Accuracy:  0.494, Loss:  2.139\n",
      "Epoch   0 Batch  138/538 - Train Accuracy:  0.442, Validation Accuracy:  0.490, Loss:  2.159\n",
      "Epoch   0 Batch  139/538 - Train Accuracy:  0.432, Validation Accuracy:  0.497, Loss:  2.235\n",
      "Epoch   0 Batch  140/538 - Train Accuracy:  0.442, Validation Accuracy:  0.490, Loss:  2.213\n",
      "Epoch   0 Batch  141/538 - Train Accuracy:  0.428, Validation Accuracy:  0.493, Loss:  2.229\n",
      "Epoch   0 Batch  142/538 - Train Accuracy:  0.476, Validation Accuracy:  0.498, Loss:  2.064\n",
      "Epoch   0 Batch  143/538 - Train Accuracy:  0.440, Validation Accuracy:  0.501, Loss:  2.198\n",
      "Epoch   0 Batch  144/538 - Train Accuracy:  0.452, Validation Accuracy:  0.501, Loss:  2.178\n",
      "Epoch   0 Batch  145/538 - Train Accuracy:  0.453, Validation Accuracy:  0.494, Loss:  2.133\n",
      "Epoch   0 Batch  146/538 - Train Accuracy:  0.460, Validation Accuracy:  0.482, Loss:  2.022\n",
      "Epoch   0 Batch  147/538 - Train Accuracy:  0.474, Validation Accuracy:  0.496, Loss:  2.076\n",
      "Epoch   0 Batch  148/538 - Train Accuracy:  0.431, Validation Accuracy:  0.496, Loss:  2.208\n",
      "Epoch   0 Batch  149/538 - Train Accuracy:  0.444, Validation Accuracy:  0.500, Loss:  2.143\n",
      "Epoch   0 Batch  150/538 - Train Accuracy:  0.455, Validation Accuracy:  0.498, Loss:  2.148\n",
      "Epoch   0 Batch  151/538 - Train Accuracy:  0.456, Validation Accuracy:  0.486, Loss:  2.065\n",
      "Epoch   0 Batch  152/538 - Train Accuracy:  0.461, Validation Accuracy:  0.490, Loss:  2.086\n",
      "Epoch   0 Batch  153/538 - Train Accuracy:  0.450, Validation Accuracy:  0.502, Loss:  2.125\n",
      "Epoch   0 Batch  154/538 - Train Accuracy:  0.461, Validation Accuracy:  0.502, Loss:  2.060\n",
      "Epoch   0 Batch  155/538 - Train Accuracy:  0.480, Validation Accuracy:  0.497, Loss:  2.045\n",
      "Epoch   0 Batch  156/538 - Train Accuracy:  0.451, Validation Accuracy:  0.496, Loss:  2.131\n",
      "Epoch   0 Batch  157/538 - Train Accuracy:  0.439, Validation Accuracy:  0.483, Loss:  2.115\n",
      "Epoch   0 Batch  158/538 - Train Accuracy:  0.431, Validation Accuracy:  0.488, Loss:  2.210\n",
      "Epoch   0 Batch  159/538 - Train Accuracy:  0.434, Validation Accuracy:  0.494, Loss:  2.163\n",
      "Epoch   0 Batch  160/538 - Train Accuracy:  0.450, Validation Accuracy:  0.496, Loss:  2.108\n",
      "Epoch   0 Batch  161/538 - Train Accuracy:  0.444, Validation Accuracy:  0.496, Loss:  2.127\n",
      "Epoch   0 Batch  162/538 - Train Accuracy:  0.470, Validation Accuracy:  0.495, Loss:  2.025\n",
      "Epoch   0 Batch  163/538 - Train Accuracy:  0.458, Validation Accuracy:  0.492, Loss:  2.107\n",
      "Epoch   0 Batch  164/538 - Train Accuracy:  0.442, Validation Accuracy:  0.498, Loss:  2.174\n",
      "Epoch   0 Batch  165/538 - Train Accuracy:  0.476, Validation Accuracy:  0.498, Loss:  1.994\n",
      "Epoch   0 Batch  166/538 - Train Accuracy:  0.448, Validation Accuracy:  0.500, Loss:  2.120\n",
      "Epoch   0 Batch  167/538 - Train Accuracy:  0.471, Validation Accuracy:  0.500, Loss:  2.022\n",
      "Epoch   0 Batch  168/538 - Train Accuracy:  0.441, Validation Accuracy:  0.501, Loss:  2.176\n",
      "Epoch   0 Batch  169/538 - Train Accuracy:  0.440, Validation Accuracy:  0.500, Loss:  2.127\n",
      "Epoch   0 Batch  170/538 - Train Accuracy:  0.474, Validation Accuracy:  0.495, Loss:  2.041\n",
      "Epoch   0 Batch  171/538 - Train Accuracy:  0.432, Validation Accuracy:  0.499, Loss:  2.170\n",
      "Epoch   0 Batch  172/538 - Train Accuracy:  0.461, Validation Accuracy:  0.499, Loss:  2.098\n",
      "Epoch   0 Batch  173/538 - Train Accuracy:  0.468, Validation Accuracy:  0.494, Loss:  2.059\n",
      "Epoch   0 Batch  174/538 - Train Accuracy:  0.426, Validation Accuracy:  0.491, Loss:  2.170\n",
      "Epoch   0 Batch  175/538 - Train Accuracy:  0.411, Validation Accuracy:  0.492, Loss:  2.217\n",
      "Epoch   0 Batch  176/538 - Train Accuracy:  0.431, Validation Accuracy:  0.491, Loss:  2.209\n",
      "Epoch   0 Batch  177/538 - Train Accuracy:  0.454, Validation Accuracy:  0.493, Loss:  2.156\n",
      "Epoch   0 Batch  178/538 - Train Accuracy:  0.465, Validation Accuracy:  0.491, Loss:  2.123\n",
      "Epoch   0 Batch  179/538 - Train Accuracy:  0.442, Validation Accuracy:  0.497, Loss:  2.183\n",
      "Epoch   0 Batch  180/538 - Train Accuracy:  0.478, Validation Accuracy:  0.495, Loss:  2.040\n",
      "Epoch   0 Batch  181/538 - Train Accuracy:  0.420, Validation Accuracy:  0.496, Loss:  2.197\n",
      "Epoch   0 Batch  182/538 - Train Accuracy:  0.425, Validation Accuracy:  0.492, Loss:  2.177\n",
      "Epoch   0 Batch  183/538 - Train Accuracy:  0.459, Validation Accuracy:  0.496, Loss:  2.037\n",
      "Epoch   0 Batch  184/538 - Train Accuracy:  0.455, Validation Accuracy:  0.494, Loss:  2.063\n",
      "Epoch   0 Batch  185/538 - Train Accuracy:  0.443, Validation Accuracy:  0.501, Loss:  2.123\n",
      "Epoch   0 Batch  186/538 - Train Accuracy:  0.454, Validation Accuracy:  0.494, Loss:  2.089\n",
      "Epoch   0 Batch  187/538 - Train Accuracy:  0.474, Validation Accuracy:  0.496, Loss:  2.020\n",
      "Epoch   0 Batch  188/538 - Train Accuracy:  0.434, Validation Accuracy:  0.490, Loss:  2.142\n",
      "Epoch   0 Batch  189/538 - Train Accuracy:  0.441, Validation Accuracy:  0.495, Loss:  2.152\n",
      "Epoch   0 Batch  190/538 - Train Accuracy:  0.420, Validation Accuracy:  0.470, Loss:  2.147\n"
     ]
    },
    {
     "ename": "KeyboardInterrupt",
     "evalue": "",
     "output_type": "error",
     "traceback": [
      "\u001b[0;31m---------------------------------------------------------------------------\u001b[0m",
      "\u001b[0;31mKeyboardInterrupt\u001b[0m                         Traceback (most recent call last)",
      "\u001b[0;32m<ipython-input-38-d7dd20c512f1>\u001b[0m in \u001b[0;36m<module>\u001b[0;34m()\u001b[0m\n\u001b[1;32m     42\u001b[0m                  \u001b[0mlr\u001b[0m\u001b[0;34m:\u001b[0m \u001b[0mlearning_rate\u001b[0m\u001b[0;34m,\u001b[0m\u001b[0;34m\u001b[0m\u001b[0m\n\u001b[1;32m     43\u001b[0m                  \u001b[0msequence_length\u001b[0m\u001b[0;34m:\u001b[0m \u001b[0mtarget_batch\u001b[0m\u001b[0;34m.\u001b[0m\u001b[0mshape\u001b[0m\u001b[0;34m[\u001b[0m\u001b[0;36m1\u001b[0m\u001b[0;34m]\u001b[0m\u001b[0;34m,\u001b[0m\u001b[0;34m\u001b[0m\u001b[0m\n\u001b[0;32m---> 44\u001b[0;31m                  keep_prob: keep_probability})\n\u001b[0m\u001b[1;32m     45\u001b[0m \u001b[0;34m\u001b[0m\u001b[0m\n\u001b[1;32m     46\u001b[0m             batch_train_logits = sess.run(\n",
      "\u001b[0;32m/Users/sahilmalhotra/anaconda/envs/tf-lab/lib/python3.5/site-packages/tensorflow/python/client/session.py\u001b[0m in \u001b[0;36mrun\u001b[0;34m(self, fetches, feed_dict, options, run_metadata)\u001b[0m\n\u001b[1;32m    765\u001b[0m     \u001b[0;32mtry\u001b[0m\u001b[0;34m:\u001b[0m\u001b[0;34m\u001b[0m\u001b[0m\n\u001b[1;32m    766\u001b[0m       result = self._run(None, fetches, feed_dict, options_ptr,\n\u001b[0;32m--> 767\u001b[0;31m                          run_metadata_ptr)\n\u001b[0m\u001b[1;32m    768\u001b[0m       \u001b[0;32mif\u001b[0m \u001b[0mrun_metadata\u001b[0m\u001b[0;34m:\u001b[0m\u001b[0;34m\u001b[0m\u001b[0m\n\u001b[1;32m    769\u001b[0m         \u001b[0mproto_data\u001b[0m \u001b[0;34m=\u001b[0m \u001b[0mtf_session\u001b[0m\u001b[0;34m.\u001b[0m\u001b[0mTF_GetBuffer\u001b[0m\u001b[0;34m(\u001b[0m\u001b[0mrun_metadata_ptr\u001b[0m\u001b[0;34m)\u001b[0m\u001b[0;34m\u001b[0m\u001b[0m\n",
      "\u001b[0;32m/Users/sahilmalhotra/anaconda/envs/tf-lab/lib/python3.5/site-packages/tensorflow/python/client/session.py\u001b[0m in \u001b[0;36m_run\u001b[0;34m(self, handle, fetches, feed_dict, options, run_metadata)\u001b[0m\n\u001b[1;32m    963\u001b[0m     \u001b[0;32mif\u001b[0m \u001b[0mfinal_fetches\u001b[0m \u001b[0;32mor\u001b[0m \u001b[0mfinal_targets\u001b[0m\u001b[0;34m:\u001b[0m\u001b[0;34m\u001b[0m\u001b[0m\n\u001b[1;32m    964\u001b[0m       results = self._do_run(handle, final_targets, final_fetches,\n\u001b[0;32m--> 965\u001b[0;31m                              feed_dict_string, options, run_metadata)\n\u001b[0m\u001b[1;32m    966\u001b[0m     \u001b[0;32melse\u001b[0m\u001b[0;34m:\u001b[0m\u001b[0;34m\u001b[0m\u001b[0m\n\u001b[1;32m    967\u001b[0m       \u001b[0mresults\u001b[0m \u001b[0;34m=\u001b[0m \u001b[0;34m[\u001b[0m\u001b[0;34m]\u001b[0m\u001b[0;34m\u001b[0m\u001b[0m\n",
      "\u001b[0;32m/Users/sahilmalhotra/anaconda/envs/tf-lab/lib/python3.5/site-packages/tensorflow/python/client/session.py\u001b[0m in \u001b[0;36m_do_run\u001b[0;34m(self, handle, target_list, fetch_list, feed_dict, options, run_metadata)\u001b[0m\n\u001b[1;32m   1013\u001b[0m     \u001b[0;32mif\u001b[0m \u001b[0mhandle\u001b[0m \u001b[0;32mis\u001b[0m \u001b[0;32mNone\u001b[0m\u001b[0;34m:\u001b[0m\u001b[0;34m\u001b[0m\u001b[0m\n\u001b[1;32m   1014\u001b[0m       return self._do_call(_run_fn, self._session, feed_dict, fetch_list,\n\u001b[0;32m-> 1015\u001b[0;31m                            target_list, options, run_metadata)\n\u001b[0m\u001b[1;32m   1016\u001b[0m     \u001b[0;32melse\u001b[0m\u001b[0;34m:\u001b[0m\u001b[0;34m\u001b[0m\u001b[0m\n\u001b[1;32m   1017\u001b[0m       return self._do_call(_prun_fn, self._session, handle, feed_dict,\n",
      "\u001b[0;32m/Users/sahilmalhotra/anaconda/envs/tf-lab/lib/python3.5/site-packages/tensorflow/python/client/session.py\u001b[0m in \u001b[0;36m_do_call\u001b[0;34m(self, fn, *args)\u001b[0m\n\u001b[1;32m   1020\u001b[0m   \u001b[0;32mdef\u001b[0m \u001b[0m_do_call\u001b[0m\u001b[0;34m(\u001b[0m\u001b[0mself\u001b[0m\u001b[0;34m,\u001b[0m \u001b[0mfn\u001b[0m\u001b[0;34m,\u001b[0m \u001b[0;34m*\u001b[0m\u001b[0margs\u001b[0m\u001b[0;34m)\u001b[0m\u001b[0;34m:\u001b[0m\u001b[0;34m\u001b[0m\u001b[0m\n\u001b[1;32m   1021\u001b[0m     \u001b[0;32mtry\u001b[0m\u001b[0;34m:\u001b[0m\u001b[0;34m\u001b[0m\u001b[0m\n\u001b[0;32m-> 1022\u001b[0;31m       \u001b[0;32mreturn\u001b[0m \u001b[0mfn\u001b[0m\u001b[0;34m(\u001b[0m\u001b[0;34m*\u001b[0m\u001b[0margs\u001b[0m\u001b[0;34m)\u001b[0m\u001b[0;34m\u001b[0m\u001b[0m\n\u001b[0m\u001b[1;32m   1023\u001b[0m     \u001b[0;32mexcept\u001b[0m \u001b[0merrors\u001b[0m\u001b[0;34m.\u001b[0m\u001b[0mOpError\u001b[0m \u001b[0;32mas\u001b[0m \u001b[0me\u001b[0m\u001b[0;34m:\u001b[0m\u001b[0;34m\u001b[0m\u001b[0m\n\u001b[1;32m   1024\u001b[0m       \u001b[0mmessage\u001b[0m \u001b[0;34m=\u001b[0m \u001b[0mcompat\u001b[0m\u001b[0;34m.\u001b[0m\u001b[0mas_text\u001b[0m\u001b[0;34m(\u001b[0m\u001b[0me\u001b[0m\u001b[0;34m.\u001b[0m\u001b[0mmessage\u001b[0m\u001b[0;34m)\u001b[0m\u001b[0;34m\u001b[0m\u001b[0m\n",
      "\u001b[0;32m/Users/sahilmalhotra/anaconda/envs/tf-lab/lib/python3.5/site-packages/tensorflow/python/client/session.py\u001b[0m in \u001b[0;36m_run_fn\u001b[0;34m(session, feed_dict, fetch_list, target_list, options, run_metadata)\u001b[0m\n\u001b[1;32m   1002\u001b[0m         return tf_session.TF_Run(session, options,\n\u001b[1;32m   1003\u001b[0m                                  \u001b[0mfeed_dict\u001b[0m\u001b[0;34m,\u001b[0m \u001b[0mfetch_list\u001b[0m\u001b[0;34m,\u001b[0m \u001b[0mtarget_list\u001b[0m\u001b[0;34m,\u001b[0m\u001b[0;34m\u001b[0m\u001b[0m\n\u001b[0;32m-> 1004\u001b[0;31m                                  status, run_metadata)\n\u001b[0m\u001b[1;32m   1005\u001b[0m \u001b[0;34m\u001b[0m\u001b[0m\n\u001b[1;32m   1006\u001b[0m     \u001b[0;32mdef\u001b[0m \u001b[0m_prun_fn\u001b[0m\u001b[0;34m(\u001b[0m\u001b[0msession\u001b[0m\u001b[0;34m,\u001b[0m \u001b[0mhandle\u001b[0m\u001b[0;34m,\u001b[0m \u001b[0mfeed_dict\u001b[0m\u001b[0;34m,\u001b[0m \u001b[0mfetch_list\u001b[0m\u001b[0;34m)\u001b[0m\u001b[0;34m:\u001b[0m\u001b[0;34m\u001b[0m\u001b[0m\n",
      "\u001b[0;31mKeyboardInterrupt\u001b[0m: "
     ]
    }
   ],
   "source": [
    "\"\"\"\n",
    "DON'T MODIFY ANYTHING IN THIS CELL\n",
    "\"\"\"\n",
    "import time\n",
    "\n",
    "def get_accuracy(target, logits):\n",
    "    \"\"\"\n",
    "    Calculate accuracy\n",
    "    \"\"\"\n",
    "    max_seq = max(target.shape[1], logits.shape[1])\n",
    "    if max_seq - target.shape[1]:\n",
    "        target = np.pad(\n",
    "            target,\n",
    "            [(0,0),(0,max_seq - target.shape[1])],\n",
    "            'constant')\n",
    "    if max_seq - logits.shape[1]:\n",
    "        logits = np.pad(\n",
    "            logits,\n",
    "            [(0,0),(0,max_seq - logits.shape[1]), (0,0)],\n",
    "            'constant')\n",
    "\n",
    "    return np.mean(np.equal(target, np.argmax(logits, 2)))\n",
    "\n",
    "train_source = source_int_text[batch_size:]\n",
    "train_target = target_int_text[batch_size:]\n",
    "\n",
    "valid_source = helper.pad_sentence_batch(source_int_text[:batch_size])\n",
    "valid_target = helper.pad_sentence_batch(target_int_text[:batch_size])\n",
    "\n",
    "with tf.Session(graph=train_graph) as sess:\n",
    "    sess.run(tf.global_variables_initializer())\n",
    "\n",
    "    for epoch_i in range(epochs):\n",
    "        for batch_i, (source_batch, target_batch) in enumerate(\n",
    "                helper.batch_data(train_source, train_target, batch_size)):\n",
    "            start_time = time.time()\n",
    "            \n",
    "            _, loss = sess.run(\n",
    "                [train_op, cost],\n",
    "                {input_data: source_batch,\n",
    "                 targets: target_batch,\n",
    "                 lr: learning_rate,\n",
    "                 sequence_length: target_batch.shape[1],\n",
    "                 keep_prob: keep_probability})\n",
    "            \n",
    "            batch_train_logits = sess.run(\n",
    "                inference_logits,\n",
    "                {input_data: source_batch, keep_prob: 1.0})\n",
    "            batch_valid_logits = sess.run(\n",
    "                inference_logits,\n",
    "                {input_data: valid_source, keep_prob: 1.0})\n",
    "                \n",
    "            train_acc = get_accuracy(target_batch, batch_train_logits)\n",
    "            valid_acc = get_accuracy(np.array(valid_target), batch_valid_logits)\n",
    "            end_time = time.time()\n",
    "            print('Epoch {:>3} Batch {:>4}/{} - Train Accuracy: {:>6.3f}, Validation Accuracy: {:>6.3f}, Loss: {:>6.3f}'\n",
    "                  .format(epoch_i, batch_i, len(source_int_text) // batch_size, train_acc, valid_acc, loss))\n",
    "\n",
    "    # Save Model\n",
    "    saver = tf.train.Saver()\n",
    "    saver.save(sess, save_path)\n",
    "    print('Model Trained and Saved')"
   ]
  },
  {
   "cell_type": "markdown",
   "metadata": {
    "deletable": true,
    "editable": true
   },
   "source": [
    "### Save Parameters\n",
    "Save the `batch_size` and `save_path` parameters for inference."
   ]
  },
  {
   "cell_type": "code",
   "execution_count": null,
   "metadata": {
    "collapsed": false,
    "deletable": true,
    "editable": true
   },
   "outputs": [],
   "source": [
    "\"\"\"\n",
    "DON'T MODIFY ANYTHING IN THIS CELL\n",
    "\"\"\"\n",
    "# Save parameters for checkpoint\n",
    "helper.save_params(save_path)"
   ]
  },
  {
   "cell_type": "markdown",
   "metadata": {
    "deletable": true,
    "editable": true
   },
   "source": [
    "# Checkpoint"
   ]
  },
  {
   "cell_type": "code",
   "execution_count": null,
   "metadata": {
    "collapsed": false,
    "deletable": true,
    "editable": true
   },
   "outputs": [],
   "source": [
    "\"\"\"\n",
    "DON'T MODIFY ANYTHING IN THIS CELL\n",
    "\"\"\"\n",
    "import tensorflow as tf\n",
    "import numpy as np\n",
    "import helper\n",
    "import problem_unittests as tests\n",
    "\n",
    "_, (source_vocab_to_int, target_vocab_to_int), (source_int_to_vocab, target_int_to_vocab) = helper.load_preprocess()\n",
    "load_path = helper.load_params()"
   ]
  },
  {
   "cell_type": "markdown",
   "metadata": {
    "deletable": true,
    "editable": true
   },
   "source": [
    "## Sentence to Sequence\n",
    "To feed a sentence into the model for translation, you first need to preprocess it.  Implement the function `sentence_to_seq()` to preprocess new sentences.\n",
    "\n",
    "- Convert the sentence to lowercase\n",
    "- Convert words into ids using `vocab_to_int`\n",
    " - Convert words not in the vocabulary, to the `<UNK>` word id."
   ]
  },
  {
   "cell_type": "code",
   "execution_count": 40,
   "metadata": {
    "collapsed": false,
    "deletable": true,
    "editable": true
   },
   "outputs": [
    {
     "name": "stdout",
     "output_type": "stream",
     "text": [
      "Tests Passed\n"
     ]
    }
   ],
   "source": [
    "def sentence_to_seq(sentence, vocab_to_int):\n",
    "    \"\"\"\n",
    "    Convert a sentence to a sequence of ids\n",
    "    :param sentence: String\n",
    "    :param vocab_to_int: Dictionary to go from the words to an id\n",
    "    :return: List of word ids\n",
    "    \"\"\"\n",
    "\n",
    "    # Convert Sentence to lowercase\n",
    "    sentence = sentence.lower()\n",
    "    \n",
    "    # Convert words to indexes\n",
    "    # If word is unknown replace with Unknown token\n",
    "    words2ids = [vocab_to_int[word] if word in vocab_to_int.keys() \\\n",
    "                 else vocab_to_int[\"<UNK>\"]\n",
    "                    for word in sentence.split()]\n",
    "    \n",
    "    return words2ids\n",
    "\n",
    "\"\"\"\n",
    "DON'T MODIFY ANYTHING IN THIS CELL THAT IS BELOW THIS LINE\n",
    "\"\"\"\n",
    "tests.test_sentence_to_seq(sentence_to_seq)"
   ]
  },
  {
   "cell_type": "markdown",
   "metadata": {
    "deletable": true,
    "editable": true
   },
   "source": [
    "## Translate\n",
    "This will translate `translate_sentence` from English to French."
   ]
  },
  {
   "cell_type": "code",
   "execution_count": null,
   "metadata": {
    "collapsed": false,
    "deletable": true,
    "editable": true
   },
   "outputs": [],
   "source": [
    "translate_sentence = 'he saw a old yellow truck .'\n",
    "\n",
    "\n",
    "\"\"\"\n",
    "DON'T MODIFY ANYTHING IN THIS CELL\n",
    "\"\"\"\n",
    "translate_sentence = sentence_to_seq(translate_sentence, source_vocab_to_int)\n",
    "\n",
    "loaded_graph = tf.Graph()\n",
    "with tf.Session(graph=loaded_graph) as sess:\n",
    "    # Load saved model\n",
    "    loader = tf.train.import_meta_graph(load_path + '.meta')\n",
    "    loader.restore(sess, load_path)\n",
    "\n",
    "    input_data = loaded_graph.get_tensor_by_name('input:0')\n",
    "    logits = loaded_graph.get_tensor_by_name('logits:0')\n",
    "    keep_prob = loaded_graph.get_tensor_by_name('keep_prob:0')\n",
    "\n",
    "    translate_logits = sess.run(logits, {input_data: [translate_sentence], keep_prob: 1.0})[0]\n",
    "\n",
    "print('Input')\n",
    "print('  Word Ids:      {}'.format([i for i in translate_sentence]))\n",
    "print('  English Words: {}'.format([source_int_to_vocab[i] for i in translate_sentence]))\n",
    "\n",
    "print('\\nPrediction')\n",
    "print('  Word Ids:      {}'.format([i for i in np.argmax(translate_logits, 1)]))\n",
    "print('  French Words: {}'.format([target_int_to_vocab[i] for i in np.argmax(translate_logits, 1)]))"
   ]
  },
  {
   "cell_type": "markdown",
   "metadata": {
    "deletable": true,
    "editable": true
   },
   "source": [
    "## Imperfect Translation\n",
    "You might notice that some sentences translate better than others.  Since the dataset you're using only has a vocabulary of 227 English words of the thousands that you use, you're only going to see good results using these words.  For this project, you don't need a perfect translation. However, if you want to create a better translation model, you'll need better data.\n",
    "\n",
    "You can train on the [WMT10 French-English corpus](http://www.statmt.org/wmt10/training-giga-fren.tar).  This dataset has more vocabulary and richer in topics discussed.  However, this will take you days to train, so make sure you've a GPU and the neural network is performing well on dataset we provided.  Just make sure you play with the WMT10 corpus after you've submitted this project.\n",
    "## Submitting This Project\n",
    "When submitting this project, make sure to run all the cells before saving the notebook. Save the notebook file as \"dlnd_language_translation.ipynb\" and save it as a HTML file under \"File\" -> \"Download as\". Include the \"helper.py\" and \"problem_unittests.py\" files in your submission."
   ]
  }
 ],
 "metadata": {
  "kernelspec": {
   "display_name": "Python 3",
   "language": "python",
   "name": "python3"
  },
  "language_info": {
   "codemirror_mode": {
    "name": "ipython",
    "version": 3
   },
   "file_extension": ".py",
   "mimetype": "text/x-python",
   "name": "python",
   "nbconvert_exporter": "python",
   "pygments_lexer": "ipython3",
   "version": "3.5.3"
  }
 },
 "nbformat": 4,
 "nbformat_minor": 0
}
